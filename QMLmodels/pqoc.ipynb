{
 "cells": [
  {
   "cell_type": "markdown",
   "id": "0d3a20fc",
   "metadata": {},
   "source": [
    "[P]arameterized [Q]uantum [O]perator [C]ircuit [???]"
   ]
  },
  {
   "cell_type": "markdown",
   "id": "b2e25f78",
   "metadata": {},
   "source": [
    "Considering the \"Universal Approximation Theorem for Operators\" presented in the [DeepONet paper](https://arxiv.org/pdf/1910.03193), and replacing the neural networks with parameterizable quantum circuits:\n",
    "\\begin{split}\n",
    "\\left|G(u)(y)-\\sum_{i=1}^n \\langle0|B^\\dagger(\\mathbf{w}_{B}, \\mathbf{x})Z_{n, B}B(\\mathbf{w}_{B}, \\mathbf{x})|0\\rangle \\langle0|T^\\dagger(\\mathbf{w}_{T}, y)Z_{n, T}T(\\mathbf{w}_{T}, y)|0\\rangle \\right| < \\epsilon\n",
    "\\end{split}"
   ]
  },
  {
   "cell_type": "markdown",
   "id": "22e27f67",
   "metadata": {},
   "source": [
    "where:\n",
    "- $G(u)(y)$ is the solution operator for the input $u$ at the location $y$\n",
    "- $\\epsilon$ is the error or tolerance\n",
    "- $n$ is the number of qubits used\n",
    "- $\\langle Z_{n,B}\\rangle$ is the expectation value of Pauli Z operator of the $n$-th qubit for the \"branch\" circuit\n",
    "- $\\langle Z_{n,T}\\rangle$ is the expectation value of Pauli Z operator of the $n$-th qubit for the \"trunk\" circuit\n",
    "- $B(\\mathbf{w}_B, \\mathbf{x})$ is the branch circuit operator, parametrized by its weight vector $\\mathbf{w}_B$ and input vector $\\mathbf{x}$\n",
    "- $T(\\mathbf{w}_B, y)$ is the trunk circuit operator, parametrized by its weight vector $\\mathbf{w}_B$ and input value $y$"
   ]
  },
  {
   "cell_type": "markdown",
   "id": "5afe68a0",
   "metadata": {},
   "source": [
    "The general forms of the branch and trunk circuits are:\n",
    "\\begin{split}\n",
    "B(\\mathbf{w}_B, \\mathbf{x}) = U_{ansatz, B}(\\mathbf{w}_B) U_{embedding, B}(\\mathbf{x})\\\\\n",
    "T(\\mathbf{w}_T, y) = U_{ansatz, T}(\\mathbf{w}_T) U_{embedding, T}(y)\n",
    "\\end{split}\n",
    "\n",
    "where:\n",
    "- $U_{ansatz, B}(\\mathbf{w}_B)$ represents the form of variational ansatz used in the branch circuit\n",
    "- $U_{embedding, B}(\\mathbf{x})$ represents the data embedding used in the branch circuit\n",
    "- $U_{ansatz, T}(\\mathbf{w}_T)$ represents the form of variational ansatz used in the trunk circuit\n",
    "- $U_{embedding, T}(y)$ represents the form of data embedding used in the trunk circuit"
   ]
  },
  {
   "cell_type": "markdown",
   "id": "77d9643c",
   "metadata": {},
   "source": [
    "Considering specific forms of variational ansatzes:\n",
    "\n",
    "An SU(2) ansatz using $RY$ and $RZ$ gates and one layer of circular entanglement acting on the state $|\\psi\\rangle$ (assume all $RY$ and $RZ$ gates shown below are parameterized):\n",
    "\\begin{split}\n",
    "|\\phi\\rangle = U_{ansatz} |\\psi\\rangle = [ RZ_1 \\otimes \\dots \\otimes RZ_n ] [ RY_1 \\otimes \\dots \\otimes RY_n ] [CNOT_{1\\rightarrow 2} \\otimes \\dots \\otimes CNOT_{n-1\\rightarrow n} \\otimes CNOT_{n\\rightarrow 1}] [ RZ_1 \\otimes \\dots \\otimes RZ_n ] [ RY_1 \\otimes \\dots \\otimes RY_n ] |\\psi\\rangle\n",
    "\\end{split}"
   ]
  },
  {
   "cell_type": "markdown",
   "id": "3ec2c9ca",
   "metadata": {},
   "source": [
    "Considering specific methods for data embedding:\n",
    "\n",
    "Angle Embedding using the $RX$ gate generates the following quantum state:\n",
    "\\begin{split}\n",
    "|\\psi\\rangle = U_{\\textrm{angle embedding}}(\\mathbf{x})|0\\rangle = \\left[RX_1(x_1) \\otimes RX_2(x_2) \\otimes \\dots \\otimes RX_n(x_n) \\right]|0\\rangle\n",
    "\\end{split}"
   ]
  },
  {
   "cell_type": "markdown",
   "id": "3cd74d41",
   "metadata": {},
   "source": [
    "Note:\n",
    "- all of these operators are unitary, as denoted by $U$.\n",
    "- while gates in quantum circuits are applied left to right, their mathematical representation is a left multiplication of the unitary matrix."
   ]
  }
 ],
 "metadata": {
  "language_info": {
   "name": "python"
  }
 },
 "nbformat": 4,
 "nbformat_minor": 5
}
